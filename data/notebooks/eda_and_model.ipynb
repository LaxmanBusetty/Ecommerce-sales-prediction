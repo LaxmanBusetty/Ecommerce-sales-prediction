{
 "cells": [
  {
   "cell_type": "code",
   "execution_count": null,
   "id": "5a80034c",
   "metadata": {},
   "outputs": [],
   "source": [
    "import pandas as pd\n",
    "import seaborn as sns\n",
    "import matplotlib.pyplot as plt\n",
    "import plotly.express as px\n",
    "from data_preprocessing import load_data, preprocess_data\n",
    "\n",
    "df = load_data('../data/ecommerce_data.csv')\n",
    "daily_sales = preprocess_data(df)\n",
    "\n",
    "# Matplotlib/Seaborn\n",
    "plt.figure(figsize=(12,6))\n",
    "sns.lineplot(data=daily_sales, x='InvoiceDate', y='TotalSales', hue='StockCode')\n",
    "plt.title(\"Daily Sales per Product\")\n",
    "plt.show()\n",
    "\n",
    "# Plotly interactive chart\n",
    "fig = px.line(daily_sales, x='InvoiceDate', y='TotalSales', color='StockCode', title='Interactive Daily Sales')\n",
    "fig.show()\n"
   ]
  }
 ],
 "metadata": {
  "kernelspec": {
   "display_name": "venv",
   "language": "python",
   "name": "python3"
  },
  "language_info": {
   "name": "python",
   "version": "3.9.6"
  }
 },
 "nbformat": 4,
 "nbformat_minor": 5
}
